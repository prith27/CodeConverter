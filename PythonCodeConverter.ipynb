{
 "cells": [
  {
   "cell_type": "code",
   "execution_count": 1,
   "id": "09940db3-9195-404f-8e59-5bd268cd81f6",
   "metadata": {},
   "outputs": [],
   "source": [
    "# imports\n",
    "\n",
    "import os\n",
    "import io\n",
    "import sys\n",
    "from dotenv import load_dotenv\n",
    "from openai import OpenAI\n",
    "import google.generativeai\n",
    "import anthropic\n",
    "from IPython.display import Markdown, display, update_display\n",
    "import gradio as gr\n",
    "import subprocess"
   ]
  },
  {
   "cell_type": "code",
   "execution_count": 2,
   "id": "0aeacd91-81cb-4e46-a746-1e141c371517",
   "metadata": {},
   "outputs": [],
   "source": [
    "# environment\n",
    "\n",
    "load_dotenv()\n",
    "os.environ['OPENAI_API_KEY'] = os.getenv('OPENAI_API_KEY')"
   ]
  },
  {
   "cell_type": "code",
   "execution_count": 3,
   "id": "65d42b46-4c57-4813-b9c7-cfec8e332b6d",
   "metadata": {},
   "outputs": [],
   "source": [
    "# initialize models\n",
    "\n",
    "openai = OpenAI()\n",
    "OPENAI_MODEL = \"gpt-4o\"\n"
   ]
  },
  {
   "cell_type": "code",
   "execution_count": 18,
   "id": "6ac995b2-b4e3-4b31-b77b-72e49c3a08f5",
   "metadata": {},
   "outputs": [],
   "source": [
    "### Define System Message\n",
    "\n",
    "system_message = \"You are an assistant that reimplements Python code in high performance C++ for an M1 Mac. \"\n",
    "system_message += \"Respond only with C++ code; use comments sparingly and do not provide any explanation other than occasional comments. \"\n",
    "system_message += \"The C++ response needs to produce an identical output in the fastest possible time.\""
   ]
  },
  {
   "cell_type": "code",
   "execution_count": 5,
   "id": "27d967a3-e149-432d-a710-e10d5be3b68b",
   "metadata": {},
   "outputs": [],
   "source": [
    "### Define User Prompt\n",
    "\n",
    "def user_prompt_for(python):\n",
    "    user_prompt = \"Rewrite this Python code in C++ with the fastest possible implementation that produces identical output in the least time. \"\n",
    "    user_prompt += \"Respond only with C++ code; do not explain your work other than a few comments. \"\n",
    "    user_prompt += \"Pay attention to number types to ensure no int overflows. Remember to #include all necessary C++ packages such as iomanip.\\n\\n\"\n",
    "    user_prompt += python\n",
    "    return user_prompt"
   ]
  },
  {
   "cell_type": "code",
   "execution_count": 6,
   "id": "5a519c79-b7bb-417e-a6ea-2a778fd6e9d1",
   "metadata": {},
   "outputs": [],
   "source": [
    "### Roles\n",
    "\n",
    "def messages_for(python):\n",
    "    return [\n",
    "        {\"role\": \"system\", \"content\": system_message},\n",
    "        {\"role\": \"user\", \"content\": user_prompt_for(python)}\n",
    "    ]"
   ]
  },
  {
   "cell_type": "code",
   "execution_count": 7,
   "id": "625095b9-2e2a-41eb-b1cf-b46b2e0e3d89",
   "metadata": {},
   "outputs": [],
   "source": [
    "### Create function to call openai api to convert code and yield result\n",
    "\n",
    "def stream_gpt(python):    \n",
    "    stream = openai.chat.completions.create(model=OPENAI_MODEL, messages=messages_for(python), stream=True)\n",
    "    reply = \"\"\n",
    "    for chunk in stream:\n",
    "        fragment = chunk.choices[0].delta.content or \"\"\n",
    "        reply += fragment\n",
    "        yield reply.replace('```cpp\\n','').replace('```','')"
   ]
  },
  {
   "cell_type": "code",
   "execution_count": 9,
   "id": "ec4e106e-69bf-4b4a-ace3-f439b396e95c",
   "metadata": {},
   "outputs": [],
   "source": [
    "### Created for Gradio UI\n",
    "\n",
    "def optimize(python):\n",
    "\n",
    "    result = stream_gpt(python)\n",
    "    for stream_so_far in result:\n",
    "        yield stream_so_far        "
   ]
  },
  {
   "cell_type": "code",
   "execution_count": 16,
   "id": "7b31fc4c-4015-4dbb-b2fe-cea2fc042ef5",
   "metadata": {},
   "outputs": [],
   "source": [
    "###Creating file for c++ code locally\n",
    "\n",
    "def write_output(cpp):\n",
    "    code = cpp.replace(\"```cpp\",\"\").replace(\"```\",\"\")\n",
    "    with open(\"optimized.cpp\", \"w\") as f:\n",
    "        f.write(code)"
   ]
  },
  {
   "cell_type": "code",
   "execution_count": 11,
   "id": "e52a0e7b-d5be-4d1c-bddc-d0587bb43e5e",
   "metadata": {},
   "outputs": [],
   "source": [
    "### Sample Python code from gfg\n",
    "\n",
    "python_hard = \"\"\"# Be careful to support large number sizes\n",
    "\n",
    "def lcg(seed, a=1664525, c=1013904223, m=2**32):\n",
    "    value = seed\n",
    "    while True:\n",
    "        value = (a * value + c) % m\n",
    "        yield value\n",
    "        \n",
    "def max_subarray_sum(n, seed, min_val, max_val):\n",
    "    lcg_gen = lcg(seed)\n",
    "    random_numbers = [next(lcg_gen) % (max_val - min_val + 1) + min_val for _ in range(n)]\n",
    "    max_sum = float('-inf')\n",
    "    for i in range(n):\n",
    "        current_sum = 0\n",
    "        for j in range(i, n):\n",
    "            current_sum += random_numbers[j]\n",
    "            if current_sum > max_sum:\n",
    "                max_sum = current_sum\n",
    "    return max_sum\n",
    "\n",
    "def total_max_subarray_sum(n, initial_seed, min_val, max_val):\n",
    "    total_sum = 0\n",
    "    lcg_gen = lcg(initial_seed)\n",
    "    for _ in range(20):\n",
    "        seed = next(lcg_gen)\n",
    "        total_sum += max_subarray_sum(n, seed, min_val, max_val)\n",
    "    return total_sum\n",
    "\n",
    "# Parameters\n",
    "n = 10000         # Number of random numbers\n",
    "initial_seed = 42 # Initial seed for the LCG\n",
    "min_val = -10     # Minimum value of random numbers\n",
    "max_val = 10      # Maximum value of random numbers\n",
    "\n",
    "# Timing the function\n",
    "import time\n",
    "start_time = time.time()\n",
    "result = total_max_subarray_sum(n, initial_seed, min_val, max_val)\n",
    "end_time = time.time()\n",
    "\n",
    "print(\"Total Maximum Subarray Sum (20 runs):\", result)\n",
    "print(\"Execution Time: {:.6f} seconds\".format(end_time - start_time))\n",
    "\"\"\""
   ]
  },
  {
   "cell_type": "code",
   "execution_count": 21,
   "id": "801d0b9f-f2a7-4591-ba7a-687b47e7c8cf",
   "metadata": {},
   "outputs": [],
   "source": [
    "### Function for Gradio UI to execute Python Code generated\n",
    "\n",
    "def execute_python(code):\n",
    "    try:\n",
    "        output = io.StringIO()\n",
    "        sys.stdout = output\n",
    "        exec(code)\n",
    "        sys.stdout = sys.__stdout__\n",
    "        return output.getvalue()\n",
    "    except Exception as e:\n",
    "        sys.stdout = sys.__stdout__\n",
    "        return f\"An error occurred in Python execution:\\n{e}\""
   ]
  },
  {
   "cell_type": "code",
   "execution_count": 22,
   "id": "00a0d8f3-dd20-47fb-8e61-de3ecdd71246",
   "metadata": {},
   "outputs": [],
   "source": [
    "### Function for Gradio UI to execute the C++ code generated\n",
    "\n",
    "def execute_cpp(code):\n",
    "        write_output(code)\n",
    "        try:\n",
    "            compile_cmd = [\"clang++\", \"-Ofast\", \"-std=c++17\", \"-march=armv8.5-a\", \"-mtune=apple-m1\", \"-mcpu=apple-m1\", \"-o\", \"optimized\", \"optimized.cpp\"]\n",
    "            compile_result = subprocess.run(compile_cmd, check=True, text=True, capture_output=True)\n",
    "            run_cmd = [\"./optimized\"]\n",
    "            run_result = subprocess.run(run_cmd, check=True, text=True, capture_output=True)\n",
    "            return run_result.stdout\n",
    "        except subprocess.CalledProcessError as e:\n",
    "            return f\"An error occurred:\\n{e.stderr}\""
   ]
  },
  {
   "cell_type": "code",
   "execution_count": 30,
   "id": "1428c734-c1cc-4a59-8377-7095cb717854",
   "metadata": {},
   "outputs": [
    {
     "data": {
      "text/html": [
       "<div><iframe src=\"http://127.0.0.1:7874/\" width=\"100%\" height=\"500\" allow=\"autoplay; camera; microphone; clipboard-read; clipboard-write;\" frameborder=\"0\" allowfullscreen></iframe></div>"
      ],
      "text/plain": [
       "<IPython.core.display.HTML object>"
      ]
     },
     "metadata": {},
     "output_type": "display_data"
    },
    {
     "data": {
      "text/plain": []
     },
     "execution_count": 30,
     "metadata": {},
     "output_type": "execute_result"
    }
   ],
   "source": [
    "### Simple UI for\n",
    "\n",
    "\n",
    "css = \"\"\"\n",
    ".python {background-color: #f0f8ff; border-radius: 5px; padding: 10px;}\n",
    ".cpp {background-color: #f5f5dc; border-radius: 5px; padding: 10px;}\n",
    ".button {background-color: #4CAF50; color: white; padding: 10px 20px; border: none; border-radius: 5px; cursor: pointer;}\n",
    ".button:hover {background-color: #45a049;}\n",
    "\"\"\"\n",
    "\n",
    "\n",
    "\n",
    "with gr.Blocks(css=css) as ui:\n",
    "    gr.Markdown(\n",
    "        \"\"\"\n",
    "        ## Python to C++ Code Conversion Tool 🐍➡️➕➕\n",
    "        Easily convert Python code into its C++ equivalent, execute the code, and view the results.\n",
    "        \"\"\"\n",
    "    )\n",
    "    with gr.Row():\n",
    "        with gr.Column():\n",
    "            python = gr.Textbox(\n",
    "                label=\"Python Code\",\n",
    "                placeholder=\"Enter your Python code here...\",\n",
    "                lines=12,\n",
    "                elem_classes=[\"python\"],\n",
    "            )\n",
    "        with gr.Column():\n",
    "            cpp = gr.Textbox(\n",
    "                label=\"C++ Code\",\n",
    "                placeholder=\"Converted C++ code will appear here...\",\n",
    "                lines=12,\n",
    "                elem_classes=[\"cpp\"],\n",
    "            )\n",
    "    with gr.Row():\n",
    "        convert = gr.Button(\"Convert Code\", elem_classes=[\"button\"])\n",
    "    with gr.Row():\n",
    "        with gr.Column():\n",
    "            python_run = gr.Button(\"Run Python Code\", elem_classes=[\"button\"])\n",
    "            python_out = gr.TextArea(\n",
    "                label=\"Python Execution Result\",\n",
    "                placeholder=\"Python code output will appear here...\",\n",
    "                elem_classes=[\"python\"],\n",
    "            )\n",
    "        with gr.Column():\n",
    "            cpp_run = gr.Button(\"Run C++ Code\", elem_classes=[\"button\"])\n",
    "            cpp_out = gr.TextArea(\n",
    "                label=\"C++ Execution Result\",\n",
    "                placeholder=\"C++ code output will appear here...\",\n",
    "                elem_classes=[\"cpp\"],\n",
    "            )\n",
    "    \n",
    "    # Define interactivity\n",
    "    convert.click(optimize, inputs=[python], outputs=[cpp])\n",
    "    python_run.click(execute_python, inputs=[python], outputs=[python_out])\n",
    "    cpp_run.click(execute_cpp, inputs=[cpp], outputs=[cpp_out])\n",
    "\n",
    "ui.launch(inbrowser=True)\n"
   ]
  }
 ],
 "metadata": {
  "kernelspec": {
   "display_name": "Python 3 (ipykernel)",
   "language": "python",
   "name": "python3"
  },
  "language_info": {
   "codemirror_mode": {
    "name": "ipython",
    "version": 3
   },
   "file_extension": ".py",
   "mimetype": "text/x-python",
   "name": "python",
   "nbconvert_exporter": "python",
   "pygments_lexer": "ipython3",
   "version": "3.11.2"
  }
 },
 "nbformat": 4,
 "nbformat_minor": 5
}
